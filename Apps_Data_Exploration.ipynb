{
 "cells": [
  {
   "cell_type": "markdown",
   "metadata": {},
   "source": [
    "<h1> Exporing Data From the Google Play and App Store</h1>\n",
    "\n",
    "<p> This project is to expore data from the Google Play Store and the App store and look for patterns.  Data are originally taken from Kaggle, I would include the information below. <p>\n",
    "\n",
    "<br> Links:\n",
    "<br> Google Play: https://www.kaggle.com/lava18/google-play-store-apps\n",
    "<br> App Store: https://www.kaggle.com/ramamet4/app-store-apple-data-set-10k-apps\n",
    "\n"
   ]
  },
  {
   "cell_type": "markdown",
   "metadata": {
    "collapsed": false
   },
   "source": [
    "<p><b>Exploring and Cleaning Data</b></p>"
   ]
  },
  {
   "cell_type": "code",
   "execution_count": 2,
   "metadata": {
    "collapsed": false
   },
   "outputs": [],
   "source": [
    "opened_file = open(\"googleplaystore.csv\")\n",
    "from csv import reader\n",
    "read_file = reader(opened_file)\n",
    "play_store_data = list(read_file)\n",
    "\n",
    "opened_file = open(\"AppleStore.csv\")\n",
    "from csv import reader\n",
    "read_file = reader(opened_file)\n",
    "app_store_data = list(read_file)\n",
    "\n",
    "#Function to show an overview of the datasets\n",
    "def explore_data(dataset, start, end, rows_and_columns=True):\n",
    "    dataset_slice = dataset[start:end]    \n",
    "    for row in dataset_slice:\n",
    "        print(row)\n",
    "        print('\\n') # adds a new (empty) line after each row\n",
    "\n",
    "    if rows_and_columns:\n",
    "        print('Number of rows:', len(dataset))\n",
    "        print('Number of columns:', len(dataset[0]))\n"
   ]
  },
  {
   "cell_type": "code",
   "execution_count": 3,
   "metadata": {
    "collapsed": false
   },
   "outputs": [
    {
     "name": "stdout",
     "output_type": "stream",
     "text": [
      "['App', 'Category', 'Rating', 'Reviews', 'Size', 'Installs', 'Type', 'Price', 'Content Rating', 'Genres', 'Last Updated', 'Current Ver', 'Android Ver']\n",
      "\n",
      "\n",
      "['Photo Editor & Candy Camera & Grid & ScrapBook', 'ART_AND_DESIGN', '4.1', '159', '19M', '10,000+', 'Free', '0', 'Everyone', 'Art & Design', 'January 7, 2018', '1.0.0', '4.0.3 and up']\n",
      "\n",
      "\n",
      "['Coloring book moana', 'ART_AND_DESIGN', '3.9', '967', '14M', '500,000+', 'Free', '0', 'Everyone', 'Art & Design;Pretend Play', 'January 15, 2018', '2.0.0', '4.0.3 and up']\n",
      "\n",
      "\n",
      "Number of rows: 10842\n",
      "Number of columns: 13\n"
     ]
    }
   ],
   "source": [
    "# Exploring data from the Play Store\n",
    "explore_data(play_store_data,0,3)"
   ]
  },
  {
   "cell_type": "code",
   "execution_count": 4,
   "metadata": {
    "collapsed": false
   },
   "outputs": [
    {
     "name": "stdout",
     "output_type": "stream",
     "text": [
      "['id', 'track_name', 'size_bytes', 'currency', 'price', 'rating_count_tot', 'rating_count_ver', 'user_rating', 'user_rating_ver', 'ver', 'cont_rating', 'prime_genre', 'sup_devices.num', 'ipadSc_urls.num', 'lang.num', 'vpp_lic']\n",
      "\n",
      "\n",
      "['284882215', 'Facebook', '389879808', 'USD', '0.0', '2974676', '212', '3.5', '3.5', '95.0', '4+', 'Social Networking', '37', '1', '29', '1']\n",
      "\n",
      "\n",
      "['389801252', 'Instagram', '113954816', 'USD', '0.0', '2161558', '1289', '4.5', '4.0', '10.23', '12+', 'Photo & Video', '37', '0', '29', '1']\n",
      "\n",
      "\n",
      "Number of rows: 7198\n",
      "Number of columns: 16\n"
     ]
    }
   ],
   "source": [
    "# Exploring data from the App Store\n",
    "explore_data(app_store_data,0,3)"
   ]
  },
  {
   "cell_type": "markdown",
   "metadata": {},
   "source": [
    "It looks like the following columns may be helpful from the Play Store:\n",
    "'App', 'Category', 'Rating', 'Reviews', 'Type', 'Price', 'Content Rating', 'Genres', 'Last Updated'\n",
    "\n",
    "And From the App Store:\n",
    "'id', 'track_name', 'price', 'rating_count_tot', 'user_rating', 'prime_genre'"
   ]
  },
  {
   "cell_type": "markdown",
   "metadata": {},
   "source": [
    "<p><b> Cleaning the Dataset </b></p>"
   ]
  },
  {
   "cell_type": "code",
   "execution_count": 5,
   "metadata": {
    "collapsed": false
   },
   "outputs": [
    {
     "name": "stdout",
     "output_type": "stream",
     "text": [
      "Deleting row at index: 10472\n"
     ]
    }
   ],
   "source": [
    "for i, row in enumerate(play_store_data[1:]):\n",
    "    if float(row[2])>5 or float(row[2])<0:\n",
    "        print (\"Deleting row at index:\", i)\n",
    "        del play_store_data[i]\n",
    "    else:\n",
    "        row[2]=float(row[2])"
   ]
  },
  {
   "cell_type": "markdown",
   "metadata": {},
   "source": [
    "<p>One row was deleted because the rating was incorrect.  Now we will check if there are duplicate names in the dataset, I will remove the one with less ratings (meaning that this data isn't as recent):</p>"
   ]
  },
  {
   "cell_type": "code",
   "execution_count": 6,
   "metadata": {
    "collapsed": false
   },
   "outputs": [
    {
     "name": "stdout",
     "output_type": "stream",
     "text": [
      "0 ['App', 'Category', 'Rating', 'Reviews', 'Size', 'Installs', 'Type', 'Price', 'Content Rating', 'Genres', 'Last Updated', 'Current Ver', 'Android Ver']\n",
      "10472 ['Life Made WI-Fi Touchscreen Photo Frame', '1.9', '19', '3.0M', '1,000+', 'Free', '0', 'Everyone', '', 'February 11, 2018', '1.0.19', '4.0 and up']\n"
     ]
    }
   ],
   "source": [
    "# Making sure that the number of ratings data is in int form\n",
    "for i, row in enumerate(play_store_data):\n",
    "    if row[3].isdigit()==False:\n",
    "        print (i, row)"
   ]
  },
  {
   "cell_type": "code",
   "execution_count": 7,
   "metadata": {
    "collapsed": false
   },
   "outputs": [
    {
     "name": "stdout",
     "output_type": "stream",
     "text": [
      "['Life Made WI-Fi Touchscreen Photo Frame', '1.9', '19', '3000000', '1,000+', 'Free', '0', 'Everyone', '', 'February 11, 2018', '1.0.19', '4.0 and up']\n"
     ]
    }
   ],
   "source": [
    "#Changing this index position to have 3,000,000 ratings\n",
    "play_store_data[10472][3]='3000000'\n",
    "print(play_store_data[10472])\n",
    "\n",
    "# Sorting by the largest number of ratings\n",
    "play_store_data[1:].sort(key=lambda x: int(x[3]))\n",
    "\n",
    "#Checked that data were sorted- but don't actually want to print them\n",
    "# print(play_store_data[1])\n",
    "# print(play_store_data.pop())"
   ]
  },
  {
   "cell_type": "markdown",
   "metadata": {},
   "source": [
    "The following checks if an app name is in an app name set.  If it isn't, it adds\n",
    "the name to the set.  If it is in the set, it skips this entry.  This works \n",
    "because the data were sorted above. Only the largest number of ratings will \n",
    "remain. While iterating, I also add the name of the app to a dictionary with the maximum number of ratings."
   ]
  },
  {
   "cell_type": "code",
   "execution_count": 8,
   "metadata": {
    "collapsed": false
   },
   "outputs": [
    {
     "name": "stdout",
     "output_type": "stream",
     "text": [
      "The follwing number of duplicates were removed: 1181\n",
      "The length of the reviews_max dictionary is: 9659\n"
     ]
    }
   ],
   "source": [
    "#Used for the maximum number of reviews\n",
    "reviews_max={}\n",
    "app_name_set=set(play_store_data[0][0])\n",
    "play_removed_duplicate_list=[play_store_data[0]]\n",
    "length_before_removal= len(play_store_data)\n",
    "\n",
    "while len(play_store_data)>1:\n",
    "    app= play_store_data.pop()\n",
    "    if app[0] in reviews_max:\n",
    "        next\n",
    "    \n",
    "    else:\n",
    "        app_name_set.add(app[0])\n",
    "        play_removed_duplicate_list.append(app)\n",
    "        reviews_max[app[0]]= app[3]\n",
    "        \n",
    "num_duplicates_removed= length_before_removal-len(play_removed_duplicate_list)\n",
    "print(\"The follwing number of duplicates were removed:\", num_duplicates_removed)\n",
    "print(\"The length of the reviews_max dictionary is:\", len(reviews_max))"
   ]
  },
  {
   "cell_type": "markdown",
   "metadata": {},
   "source": [
    "The next step is to check for non-english apps.  I write a function to check if an app has any characters that are non-englist.  I will try a few tests below as well to make sure my function works as I expect."
   ]
  },
  {
   "cell_type": "code",
   "execution_count": 9,
   "metadata": {
    "collapsed": false
   },
   "outputs": [
    {
     "name": "stdout",
     "output_type": "stream",
     "text": [
      "True\n",
      "False\n",
      "True\n",
      "True\n"
     ]
    }
   ],
   "source": [
    "def check_all_eng_char(check_string):\n",
    "    i=0\n",
    "    for letter in check_string:\n",
    "        if ord(letter)>127:\n",
    "            i+=1\n",
    "            if i>3:\n",
    "                return False\n",
    "    return True\n",
    "\n",
    "#'Instagram' Expect True:\n",
    "print(check_all_eng_char('Instagram'))\n",
    "\n",
    "# '爱奇艺PPS -《欢乐颂2》电视剧热播': Expect False\n",
    "print(check_all_eng_char('爱奇艺PPS -《欢乐颂2》电视剧热播'))\n",
    "\n",
    "# 'Docs To Go™ Free Office Suite': Expect True- only one character\n",
    "print(check_all_eng_char('Docs To Go™ Free Office Suite'))\n",
    "\n",
    "# 'Instachat 😜': Expect True- only one character\n",
    "print(check_all_eng_char('Instachat 😜'))\n"
   ]
  },
  {
   "cell_type": "markdown",
   "metadata": {},
   "source": [
    "In the google play data, how many rows remain if we remove the non-english apps?"
   ]
  },
  {
   "cell_type": "code",
   "execution_count": 10,
   "metadata": {
    "collapsed": false
   },
   "outputs": [
    {
     "name": "stdout",
     "output_type": "stream",
     "text": [
      "There are this number of apps with Eng titles in the google play store: 9615\n",
      "There are this number of apps with Eng titles in the app store: 6184\n"
     ]
    }
   ],
   "source": [
    "eng_apps_play=[]\n",
    "eng_apps_appstore=[]\n",
    "num_eng_apps=0\n",
    "for app in play_removed_duplicate_list:\n",
    "    if check_all_eng_char(app[0])==True:\n",
    "        eng_apps_play.append(app)\n",
    "        num_eng_apps+=1\n",
    "print(\"There are this number of apps with Eng titles in the google play store:\", num_eng_apps)\n",
    "\n",
    "appstore_num_eng_apps=0\n",
    "for app in app_store_data:\n",
    "    if check_all_eng_char(app[1])==True:\n",
    "        eng_apps_appstore.append(app)\n",
    "        appstore_num_eng_apps+=1\n",
    "        \n",
    "print(\"There are this number of apps with Eng titles in the app store:\", appstore_num_eng_apps)\n"
   ]
  },
  {
   "cell_type": "markdown",
   "metadata": {},
   "source": [
    "Removing Non-free apps: We only wish to explore free apps, the next step will be to remove all non-free apps from each dataset:\n",
    "    "
   ]
  },
  {
   "cell_type": "code",
   "execution_count": 11,
   "metadata": {
    "collapsed": false
   },
   "outputs": [
    {
     "name": "stdout",
     "output_type": "stream",
     "text": [
      "Play: there are this num of apps that are in english and free: 8863\n",
      "Appstore: there are this num of apps that are in english and free: 3222\n"
     ]
    }
   ],
   "source": [
    "free_eng_apps_play=[eng_apps_play[1]]\n",
    "free_eng_apps_appstore=[eng_apps_appstore[1]]\n",
    "\n",
    "for app in eng_apps_play[1:]:\n",
    "    if app[7]=='0':\n",
    "        free_eng_apps_play.append(app)\n",
    "print(\"Play: there are this num of apps that are in english and free:\", (len(free_eng_apps_play)-1))\n",
    "\n",
    "for app in eng_apps_appstore[1:]:\n",
    "      if app[4]=='0.0':\n",
    "        free_eng_apps_appstore.append(app)\n",
    "print(\"Appstore: there are this num of apps that are in english and free:\", (len(free_eng_apps_appstore)-1))\n",
    "\n"
   ]
  },
  {
   "cell_type": "markdown",
   "metadata": {},
   "source": [
    "<h2> Data Analysis</h2>\n",
    "\n",
    "We wish to explore which apps are most popular, and will start by generating a frequency table by genera."
   ]
  },
  {
   "cell_type": "code",
   "execution_count": 12,
   "metadata": {
    "collapsed": false
   },
   "outputs": [
    {
     "name": "stdout",
     "output_type": "stream",
     "text": [
      "Play Store Catagories\n",
      "FAMILY : 0.19259844296513595\n",
      "GAME : 0.09500169242920005\n",
      "TOOLS : 0.08462146000225657\n",
      "BUSINESS : 0.04580841701455489\n",
      "LIFESTYLE : 0.03903870021437437\n",
      "PRODUCTIVITY : 0.038925871601038026\n",
      "\n",
      "Play Store Genera\n",
      "Tools : 0.08450863138892023\n",
      "Entertainment : 0.06070179397495205\n",
      "Education : 0.053480762721426156\n",
      "Business : 0.04580841701455489\n",
      "Productivity : 0.038925871601038026\n",
      "Lifestyle : 0.038925871601038026\n",
      "\n",
      "AppStore Genera\n",
      "Games : 0.5816263190564867\n",
      "Entertainment : 0.07883302296710118\n",
      "Photo & Video : 0.04965859714463067\n",
      "Education : 0.03662321539416512\n",
      "Social Networking : 0.032898820608317815\n",
      "Shopping : 0.0260707635009311\n"
     ]
    }
   ],
   "source": [
    "def generate_freq_tbl(a_data_set, gen_idx):\n",
    "    frequency_table = {}\n",
    "    table_display = []\n",
    "    \n",
    "    for row in a_data_set[1:]:\n",
    "        a_data_point = row[gen_idx]\n",
    "        if a_data_point in frequency_table:\n",
    "            frequency_table[a_data_point] += 1\n",
    "        else:\n",
    "            frequency_table[a_data_point] = 1\n",
    "    for key in frequency_table.keys():\n",
    "        frequency_table[key]= frequency_table[key]/(len(a_data_set)-1)\n",
    "        key_val_as_tuple = (frequency_table[key], key)\n",
    "        table_display.append(key_val_as_tuple)\n",
    "    \n",
    "    table_sorted = sorted(table_display, reverse = True)\n",
    "    for entry in table_sorted[:6]:\n",
    "        print(entry[1], ':', entry[0])\n",
    "        \n",
    "    return frequency_table\n",
    "\n",
    "print(\"Play Store Catagories\")\n",
    "play_freq_tbl_cat= generate_freq_tbl(free_eng_apps_play, 1)\n",
    "\n",
    "print(\"\")\n",
    "print(\"Play Store Genera\")\n",
    "play_freq_tbl_gen= generate_freq_tbl(free_eng_apps_play, 9)\n",
    "\n",
    "print(\"\")\n",
    "print(\"AppStore Genera\")\n",
    "app_freq_tbl= generate_freq_tbl(free_eng_apps_appstore, 11)"
   ]
  },
  {
   "cell_type": "markdown",
   "metadata": {},
   "source": [
    "<h2> Analysis of Frequency Tables</h2>\n",
    "\n",
    "<h4>AppStore Analysis</h4>\n",
    "The most common genera in the AppStore were \"Games\"(58%), \"Entertainment\" (8%) and \"Photo and Video\" (5%).  Catagories that were more entertaining seemed to dominate in populated in the AppStore.  We can't tell how much these apps were used, and if they were highly reviewed.\n",
    "\n",
    "<h4>PlayStore Analysis</h4>\n",
    "The PlayStore has two different catagories that could be considered \"generas\" the \"Catagories\" and \"Genera\" options.  \"Family\" apps seem to dominate the PlayStore\n",
    "The most common genera in the AppStore were \"Games\"(58%), \"Entertainment\" (8%) and \"Photo and Video\" (5%).  Catagories that were more entertaining seemed to dominate in populated in the AppStore.  We can't tell how much these apps were used, and if they were highly reviewed."
   ]
  },
  {
   "cell_type": "code",
   "execution_count": 13,
   "metadata": {
    "collapsed": false
   },
   "outputs": [
    {
     "name": "stdout",
     "output_type": "stream",
     "text": [
      "Photo & Video : 28441.54375\n",
      "Travel : 28243.8\n",
      "Navigation : 86090.33333333333\n",
      "Productivity : 21028.410714285714\n",
      "Medical : 612.0\n",
      "Music : 57326.530303030304\n",
      "Games : 22788.6696905016\n",
      "Health & Fitness : 23298.015384615384\n",
      "Entertainment : 14029.830708661417\n",
      "Business : 7491.117647058823\n",
      "Food & Drink : 33333.92307692308\n",
      "News : 21248.023255813954\n",
      "Book : 39758.5\n",
      "Catalogs : 4004.0\n",
      "Lifestyle : 16485.764705882353\n",
      "Sports : 23008.898550724636\n",
      "Finance : 31467.944444444445\n",
      "Social Networking : 98680.3831775701\n",
      "Education : 7003.983050847458\n",
      "Weather : 52279.892857142855\n",
      "Reference : 74942.11111111111\n",
      "Utilities : 18684.456790123455\n",
      "Shopping : 26919.690476190477\n"
     ]
    }
   ],
   "source": [
    "for genre in app_freq_tbl:\n",
    "    total = 0\n",
    "    len_genre = 0\n",
    "    for app in free_eng_apps_appstore:\n",
    "        genre_app = app[-5]\n",
    "        if genre_app == genre:            \n",
    "            n_ratings = float(app[5])\n",
    "            total += n_ratings\n",
    "            len_genre += 1\n",
    "    avg_n_ratings = total / len_genre\n",
    "    print(genre, ':', avg_n_ratings)"
   ]
  },
  {
   "cell_type": "markdown",
   "metadata": {},
   "source": [
    "Navigation has the highest number of reviews, followed by reference apps.  More popular app types could have an oversaturation of the market, and it may be helpful to produce an app in a genere that is growing."
   ]
  },
  {
   "cell_type": "code",
   "execution_count": 14,
   "metadata": {
    "collapsed": false
   },
   "outputs": [
    {
     "name": "stdout",
     "output_type": "stream",
     "text": [
      "ART_AND_DESIGN : 1986335.0877192982\n",
      "LIBRARIES_AND_DEMO : 638503.734939759\n",
      "TRAVEL_AND_LOCAL : 13984077.710144928\n",
      "DATING : 854028.8303030303\n",
      "PHOTOGRAPHY : 17840110.40229885\n",
      "BEAUTY : 513151.88679245283\n",
      "COMMUNICATION : 38326063.197916664\n",
      "FAMILY : 5180430.984182777\n",
      "ENTERTAINMENT : 9200779.220779222\n",
      "PERSONALIZATION : 5218893.815699658\n",
      "SOCIAL : 23253652.127118643\n",
      "EDUCATION : 1776262.6262626264\n",
      "WEATHER : 5074486.197183099\n",
      "BOOKS_AND_REFERENCE : 8767811.894736841\n",
      "EVENTS : 253542.22222222222\n",
      "VIDEO_PLAYERS : 24790074.17721519\n",
      "NEWS_AND_MAGAZINES : 9549178.467741935\n",
      "MEDICAL : 123064.7898089172\n",
      "HOUSE_AND_HOME : 1331540.5616438356\n",
      "LIFESTYLE : 1462491.1498559078\n",
      "MAPS_AND_NAVIGATION : 4056941.7741935486\n",
      "BUSINESS : 1704192.3399014778\n",
      "PRODUCTIVITY : 16772838.591304347\n",
      "HEALTH_AND_FITNESS : 4167457.3602941176\n",
      "SHOPPING : 7036877.311557789\n",
      "SPORTS : 4274688.722772277\n",
      "AUTO_AND_VEHICLES : 647317.8170731707\n",
      "PARENTING : 542603.6206896552\n",
      "FOOD_AND_DRINK : 1924897.7363636363\n",
      "TOOLS : 10801391.298666667\n",
      "COMICS : 817657.2727272727\n",
      "GAME : 12917897.209026128\n",
      "FINANCE : 1387692.475609756\n"
     ]
    }
   ],
   "source": [
    "for catagory in play_freq_tbl_cat:\n",
    "    total = 0\n",
    "    len_catagory = 0\n",
    "    for app in free_eng_apps_play:\n",
    "        catagory_app = app[1]\n",
    "        if catagory_app==catagory:\n",
    "            n_ratings = app[5].replace(\"+\",\"\")\n",
    "            n_ratings=n_ratings.replace(\",\",\"\")\n",
    "            total += float(n_ratings)\n",
    "            len_catagory += 1\n",
    "    avg_n_ratings = total / len_catagory\n",
    "    print(catagory, ':', avg_n_ratings)\n",
    "            "
   ]
  },
  {
   "cell_type": "markdown",
   "metadata": {},
   "source": [
    "Communications apps have the largest number of installations.  It looks like the data may be heavily skewed towards apps that have over 1M installations such as WhatsApp.  We haven't analized ratings of apps.  It would be helpful in the future to understand if free apps are more highly rated, and how there may be room in the market of less popular catagories for apps."
   ]
  }
 ],
 "metadata": {
  "kernelspec": {
   "display_name": "Python 3",
   "language": "python",
   "name": "python3"
  },
  "language_info": {
   "codemirror_mode": {
    "name": "ipython",
    "version": 3
   },
   "file_extension": ".py",
   "mimetype": "text/x-python",
   "name": "python",
   "nbconvert_exporter": "python",
   "pygments_lexer": "ipython3",
   "version": "3.4.3"
  }
 },
 "nbformat": 4,
 "nbformat_minor": 2
}
