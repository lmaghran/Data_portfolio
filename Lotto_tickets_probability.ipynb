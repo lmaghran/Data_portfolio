{
 "cells": [
  {
   "cell_type": "markdown",
   "metadata": {},
   "source": [
    "# Mobile App for Lottery Addiction\n",
    "\n",
    "In this project, I will use what I have learned about probabilities to create a mobile app for a medical institute that wants to to help lottery addicts better estimate their chances of winning.\n",
    "\n",
    "The goal of this project is to display what I have learned about probabilities in the form of a mobile app for lottery addiction."
   ]
  },
  {
   "cell_type": "code",
   "execution_count": 16,
   "metadata": {
    "collapsed": true
   },
   "outputs": [],
   "source": [
    "# Creating funtctions for factorials, permutations, and combinations\n",
    "\n",
    "def factorial(n):\n",
    "    final_product = 1\n",
    "    for i in range(n, 0, -1):\n",
    "        final_product *= i\n",
    "    return final_product\n",
    "\n",
    "def permutation(n, k):\n",
    "    numerator = factorial(n)\n",
    "    denominator = factorial(n-k)\n",
    "    return numerator/denominator\n",
    "\n",
    "def combinations(n, k):\n",
    "    numerator=factorial(n)\n",
    "    denom= factorial(k)*factorial(n-k)\n",
    "    return numerator/denom"
   ]
  },
  {
   "cell_type": "markdown",
   "metadata": {},
   "source": [
    "# One Ticket Probability"
   ]
  },
  {
   "cell_type": "code",
   "execution_count": 17,
   "metadata": {
    "collapsed": false
   },
   "outputs": [],
   "source": [
    "def one_ticket_probability(user_numbers):\n",
    "    \n",
    "    n_combinations = combinations(49, 6)\n",
    "    probability_one_ticket = 1/n_combinations\n",
    "    percentage_form = probability_one_ticket * 100\n",
    "    \n",
    "    print('''Your chances to win the big prize with the numbers {} are {:.7f}%.\n",
    "In other words, you have a 1 in {:,} chance to win.'''.format(user_numbers,\n",
    "                    percentage_form, int(n_combinations)))"
   ]
  },
  {
   "cell_type": "code",
   "execution_count": 18,
   "metadata": {
    "collapsed": false,
    "scrolled": true
   },
   "outputs": [
    {
     "name": "stdout",
     "output_type": "stream",
     "text": [
      "Your chances to win the big prize with the numbers [5, 2, 1, 3, 4, 29] are 0.0000072%.\n",
      "In other words, you have a 1 in 13,983,816 chance to win.\n"
     ]
    }
   ],
   "source": [
    "one_ticket_probability([5,2,1,3,4,29])"
   ]
  },
  {
   "cell_type": "markdown",
   "metadata": {},
   "source": [
    "# Comparing Lotto Tickets to Historical Data\n",
    "\n",
    "A user may want to see how their lotto ticket compares to historical data.  I will use a dataset from Canada's National Lotto (now on Kaggle) to show a comparison."
   ]
  },
  {
   "cell_type": "code",
   "execution_count": 19,
   "metadata": {
    "collapsed": false,
    "scrolled": true
   },
   "outputs": [
    {
     "name": "stdout",
     "output_type": "stream",
     "text": [
      "(3665, 11)\n",
      "   PRODUCT  DRAW NUMBER  SEQUENCE NUMBER  DRAW DATE  NUMBER DRAWN 1  \\\n",
      "0      649            1                0  6/12/1982               3   \n",
      "1      649            2                0  6/19/1982               8   \n",
      "2      649            3                0  6/26/1982               1   \n",
      "\n",
      "   NUMBER DRAWN 2  NUMBER DRAWN 3  NUMBER DRAWN 4  NUMBER DRAWN 5  \\\n",
      "0              11              12              14              41   \n",
      "1              33              36              37              39   \n",
      "2               6              23              24              27   \n",
      "\n",
      "   NUMBER DRAWN 6  BONUS NUMBER  \n",
      "0              43            13  \n",
      "1              41             9  \n",
      "2              39            34  \n",
      "Last Entries       PRODUCT  DRAW NUMBER  SEQUENCE NUMBER  DRAW DATE  NUMBER DRAWN 1  \\\n",
      "3662      649         3589                0  6/13/2018               6   \n",
      "3663      649         3590                0  6/16/2018               2   \n",
      "3664      649         3591                0  6/20/2018              14   \n",
      "\n",
      "      NUMBER DRAWN 2  NUMBER DRAWN 3  NUMBER DRAWN 4  NUMBER DRAWN 5  \\\n",
      "3662              22              24              31              32   \n",
      "3663              15              21              31              38   \n",
      "3664              24              31              35              37   \n",
      "\n",
      "      NUMBER DRAWN 6  BONUS NUMBER  \n",
      "3662              34            16  \n",
      "3663              49             8  \n",
      "3664              48            17  \n"
     ]
    }
   ],
   "source": [
    "import pandas as pd\n",
    "pre_lotto= pd.read_csv('649.csv')\n",
    "\n",
    "print(pre_lotto.shape)\n",
    "print(pre_lotto.head(3))\n",
    "\n",
    "print(\"Last Entries\", pre_lotto.tail(3))"
   ]
  },
  {
   "cell_type": "code",
   "execution_count": 20,
   "metadata": {
    "collapsed": false,
    "scrolled": true
   },
   "outputs": [
    {
     "data": {
      "text/plain": [
       "0    {3, 41, 11, 12, 43, 14}\n",
       "1    {33, 36, 37, 39, 8, 41}\n",
       "2     {1, 6, 39, 23, 24, 27}\n",
       "3     {3, 9, 10, 43, 13, 20}\n",
       "4    {34, 5, 14, 47, 21, 31}\n",
       "dtype: object"
      ]
     },
     "execution_count": 20,
     "metadata": {},
     "output_type": "execute_result"
    }
   ],
   "source": [
    "def extract_numbers(row):\n",
    "    row = row[4:10]\n",
    "    row = set(row.values)\n",
    "    return row\n",
    "\n",
    "winning_numbers= pre_lotto.apply(extract_numbers, axis=1)\n",
    "winning_numbers.head()"
   ]
  },
  {
   "cell_type": "code",
   "execution_count": 21,
   "metadata": {
    "collapsed": false
   },
   "outputs": [
    {
     "name": "stdout",
     "output_type": "stream",
     "text": [
      "The number of times combination [33, 36, 37, 39, 8, 41] has occured in the past is 1. Your chances to win the big prize in the next drawing using the combination [33, 36, 37, 39, 8, 41] are 0.0000072%. In other words, you have a 1 in 13,983,816 chances to win.\n"
     ]
    }
   ],
   "source": [
    "def check_historical_occurrence(lst, sres):\n",
    "    lst_set= set(lst)\n",
    "    in_sres= lst_set == sres\n",
    "    total= in_sres.sum()\n",
    "    if total==0:\n",
    "        print('''The combination {} has never occured. This doesn't mean it's more likely to occur now. Your chances to win the big prize in the next drawing using the combination {} are 0.0000072%. In other words, you have a 1 in 13,983,816 chances to win.'''.format(lst, lst))\n",
    "        \n",
    "    else:\n",
    "        print('''The number of times combination {} has occured in the past is {}. Your chances to win the big prize in the next drawing using the combination {} are 0.0000072%. In other words, you have a 1 in 13,983,816 chances to win.'''.format(lst, total, lst))\n",
    "\n",
    "        \n",
    "test_input = [33, 36, 37, 39, 8, 41]\n",
    "check_historical_occurrence(test_input, winning_numbers)"
   ]
  },
  {
   "cell_type": "markdown",
   "metadata": {},
   "source": [
    "# Multi Ticket Probability\n",
    "\n",
    "I will show the user how purchasing multiple tickets may affect their ability to win \"the big one\"."
   ]
  },
  {
   "cell_type": "code",
   "execution_count": 22,
   "metadata": {
    "collapsed": true
   },
   "outputs": [],
   "source": [
    "def multi_ticket_probability(ticket_num):\n",
    "    n_combinations = combinations(49, 6)\n",
    "    probability_one_ticket = 1/n_combinations\n",
    "    percentage_form = probability_one_ticket * 100 * ticket_num\n",
    "    print('''Your chances to win the big prize with {} tickets are {:.7f}%.\n",
    "    In other words, you have a 1 in {:,} chance to win.'''.format(ticket_num,\n",
    "                    percentage_form, int(n_combinations)))\n",
    "    \n"
   ]
  },
  {
   "cell_type": "code",
   "execution_count": 23,
   "metadata": {
    "collapsed": false,
    "scrolled": true
   },
   "outputs": [
    {
     "name": "stdout",
     "output_type": "stream",
     "text": [
      "Your chances to win the big prize with 1 tickets are 0.0000072%.\n",
      "    In other words, you have a 1 in 13,983,816 chance to win.\n",
      "Your chances to win the big prize with 10 tickets are 0.0000715%.\n",
      "    In other words, you have a 1 in 13,983,816 chance to win.\n",
      "Your chances to win the big prize with 100 tickets are 0.0007151%.\n",
      "    In other words, you have a 1 in 13,983,816 chance to win.\n",
      "Your chances to win the big prize with 10000 tickets are 0.0715112%.\n",
      "    In other words, you have a 1 in 13,983,816 chance to win.\n",
      "Your chances to win the big prize with 1000000 tickets are 7.1511238%.\n",
      "    In other words, you have a 1 in 13,983,816 chance to win.\n",
      "Your chances to win the big prize with 6991908 tickets are 50.0000000%.\n",
      "    In other words, you have a 1 in 13,983,816 chance to win.\n",
      "Your chances to win the big prize with 13983816 tickets are 100.0000000%.\n",
      "    In other words, you have a 1 in 13,983,816 chance to win.\n"
     ]
    }
   ],
   "source": [
    "# I will test the function on a number of different number of tickets purchased\n",
    "\n",
    "for nums in [1, 10, 100, 10000, 1000000, 6991908, 13983816]:\n",
    "    multi_ticket_probability(nums)"
   ]
  },
  {
   "cell_type": "markdown",
   "metadata": {},
   "source": [
    "# What about matching one number?\n",
    "\n",
    "I will create functions to calculate the probability of matching one or more number."
   ]
  },
  {
   "cell_type": "code",
   "execution_count": 24,
   "metadata": {
    "collapsed": true
   },
   "outputs": [],
   "source": [
    "def probability_less_6(n_winning_numbers):\n",
    "    \n",
    "    n_combinations_ticket = combinations(6, n_winning_numbers)\n",
    "    n_combinations_remaining = combinations(43, 6 - n_winning_numbers)\n",
    "    successful_outcomes = n_combinations_ticket * n_combinations_remaining\n",
    "    \n",
    "    n_combinations_total = combinations(49, 6)    \n",
    "    probability = successful_outcomes / n_combinations_total\n",
    "    \n",
    "    probability_percentage = probability * 100    \n",
    "    combinations_simplified = round(n_combinations_total/successful_outcomes)    \n",
    "    print('''Your chances of having {} winning numbers with this ticket are {:.6f}%.\n",
    "In other words, you have a 1 in {:,} chances to win.'''.format(n_winning_numbers, probability_percentage,\n",
    "                                                               int(combinations_simplified)))\n",
    "        \n",
    "        \n",
    "    "
   ]
  },
  {
   "cell_type": "code",
   "execution_count": 25,
   "metadata": {
    "collapsed": false,
    "scrolled": true
   },
   "outputs": [
    {
     "name": "stdout",
     "output_type": "stream",
     "text": [
      "Your chances of having 1 winning numbers with this ticket are 41.301945%.\n",
      "In other words, you have a 1 in 2 chances to win.\n",
      "Your chances of having 2 winning numbers with this ticket are 13.237803%.\n",
      "In other words, you have a 1 in 8 chances to win.\n",
      "Your chances of having 3 winning numbers with this ticket are 1.765040%.\n",
      "In other words, you have a 1 in 57 chances to win.\n",
      "Your chances of having 4 winning numbers with this ticket are 0.096862%.\n",
      "In other words, you have a 1 in 1,032 chances to win.\n",
      "Your chances of having 5 winning numbers with this ticket are 0.001845%.\n",
      "In other words, you have a 1 in 54,201 chances to win.\n",
      "Your chances of having 6 winning numbers with this ticket are 0.000007%.\n",
      "In other words, you have a 1 in 13,983,816 chances to win.\n"
     ]
    }
   ],
   "source": [
    "for i in range(1, 7):\n",
    "    probability_less_6(i)"
   ]
  },
  {
   "cell_type": "markdown",
   "metadata": {},
   "source": [
    "My analysis shows that there is a likelihood that someone will have one number selected on the ticket.  However, this doesn't mean that they will win a prize.  There is only about a 15% chance of a lottery player winning a prize."
   ]
  }
 ],
 "metadata": {
  "kernelspec": {
   "display_name": "Python 3",
   "language": "python",
   "name": "python3"
  },
  "language_info": {
   "codemirror_mode": {
    "name": "ipython",
    "version": 3
   },
   "file_extension": ".py",
   "mimetype": "text/x-python",
   "name": "python",
   "nbconvert_exporter": "python",
   "pygments_lexer": "ipython3",
   "version": "3.4.3"
  }
 },
 "nbformat": 4,
 "nbformat_minor": 2
}
