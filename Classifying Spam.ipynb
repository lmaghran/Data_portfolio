{
 "cells": [
  {
   "cell_type": "markdown",
   "id": "hourly-analysis",
   "metadata": {},
   "source": [
    "# Classifying Spam Messages"
   ]
  },
  {
   "cell_type": "markdown",
   "id": "valued-halloween",
   "metadata": {},
   "source": [
    "\n",
    "In this project, I will look at classifying spam messages using Naive Bayes.  To train the dataset, I will use a dataset with 5572 rows.  Data are classified as \"ham\" or \"spam\" messages.  The dataset used comes from the UCI Machine Learning Repository and can be downloaded [here](https://archive.ics.uci.edu/ml/datasets/sms+spam+collection).\n"
   ]
  },
  {
   "cell_type": "code",
   "execution_count": 16,
   "id": "adapted-recording",
   "metadata": {},
   "outputs": [
    {
     "name": "stdout",
     "output_type": "stream",
     "text": [
      "(5572, 2)\n"
     ]
    },
    {
     "data": {
      "text/html": [
       "<div>\n",
       "<style scoped>\n",
       "    .dataframe tbody tr th:only-of-type {\n",
       "        vertical-align: middle;\n",
       "    }\n",
       "\n",
       "    .dataframe tbody tr th {\n",
       "        vertical-align: top;\n",
       "    }\n",
       "\n",
       "    .dataframe thead th {\n",
       "        text-align: right;\n",
       "    }\n",
       "</style>\n",
       "<table border=\"1\" class=\"dataframe\">\n",
       "  <thead>\n",
       "    <tr style=\"text-align: right;\">\n",
       "      <th></th>\n",
       "      <th>Label</th>\n",
       "      <th>SMS</th>\n",
       "    </tr>\n",
       "  </thead>\n",
       "  <tbody>\n",
       "    <tr>\n",
       "      <th>0</th>\n",
       "      <td>ham</td>\n",
       "      <td>Go until jurong point, crazy.. Available only ...</td>\n",
       "    </tr>\n",
       "    <tr>\n",
       "      <th>1</th>\n",
       "      <td>ham</td>\n",
       "      <td>Ok lar... Joking wif u oni...</td>\n",
       "    </tr>\n",
       "    <tr>\n",
       "      <th>2</th>\n",
       "      <td>spam</td>\n",
       "      <td>Free entry in 2 a wkly comp to win FA Cup fina...</td>\n",
       "    </tr>\n",
       "    <tr>\n",
       "      <th>3</th>\n",
       "      <td>ham</td>\n",
       "      <td>U dun say so early hor... U c already then say...</td>\n",
       "    </tr>\n",
       "    <tr>\n",
       "      <th>4</th>\n",
       "      <td>ham</td>\n",
       "      <td>Nah I don't think he goes to usf, he lives aro...</td>\n",
       "    </tr>\n",
       "  </tbody>\n",
       "</table>\n",
       "</div>"
      ],
      "text/plain": [
       "  Label                                                SMS\n",
       "0   ham  Go until jurong point, crazy.. Available only ...\n",
       "1   ham                      Ok lar... Joking wif u oni...\n",
       "2  spam  Free entry in 2 a wkly comp to win FA Cup fina...\n",
       "3   ham  U dun say so early hor... U c already then say...\n",
       "4   ham  Nah I don't think he goes to usf, he lives aro..."
      ]
     },
     "execution_count": 16,
     "metadata": {},
     "output_type": "execute_result"
    }
   ],
   "source": [
    "import pandas as pd\n",
    "import typing as t\n",
    "\n",
    "sms_spam = pd.read_csv(\"SMSSpamCollection.csv\", sep=\"\\t\", header=None, names=[\"Label\", \"SMS\"])\n",
    "print(sms_spam.shape)\n",
    "sms_spam.head()"
   ]
  },
  {
   "cell_type": "code",
   "execution_count": 17,
   "id": "horizontal-fleet",
   "metadata": {},
   "outputs": [
    {
     "name": "stdout",
     "output_type": "stream",
     "text": [
      "ham     0.865937\n",
      "spam    0.134063\n",
      "Name: Label, dtype: float64\n"
     ]
    }
   ],
   "source": [
    "def percentages_ham_spam(dataset: \"DataFrame\") -> \"DataFrame\":\n",
    "    return dataset[\"Label\"].value_counts(normalize=True)\n",
    "\n",
    "print(percentages_ham_spam(sms_spam))"
   ]
  },
  {
   "cell_type": "markdown",
   "id": "favorite-mainland",
   "metadata": {},
   "source": [
    "About 87% of the messages are considered \"ham\" messages (non-spam)."
   ]
  },
  {
   "cell_type": "markdown",
   "id": "retained-shade",
   "metadata": {},
   "source": [
    "# Training the data\n",
    "I am going to use 80% of the data for training and 20% for testing, with a goal of 80% accuracy.  First I will randomize the data:"
   ]
  },
  {
   "cell_type": "code",
   "execution_count": 18,
   "id": "devoted-settle",
   "metadata": {},
   "outputs": [
    {
     "name": "stdout",
     "output_type": "stream",
     "text": [
      "(4458, 2)\n",
      "(1114, 2)\n"
     ]
    }
   ],
   "source": [
    "#randomizing the dataset\n",
    "random_sms_spam= sms_spam.sample(frac=1, random_state=1)\n",
    "\n",
    "#len of data\n",
    "dataset_len= len(random_sms_spam)\n",
    "training_indx= round(.8*dataset_len)\n",
    "\n",
    "#Breaking up the dataset\n",
    "training_sms_spam= random_sms_spam[:training_indx].reset_index(drop=True)\n",
    "test_sms_spam= random_sms_spam[training_indx:].reset_index(drop=True)\n",
    "\n",
    "print(training_sms_spam.shape)\n",
    "print(test_sms_spam.shape)\n"
   ]
  },
  {
   "cell_type": "code",
   "execution_count": 19,
   "id": "conscious-karen",
   "metadata": {},
   "outputs": [
    {
     "name": "stdout",
     "output_type": "stream",
     "text": [
      "Training Dataset: \n",
      "ham     0.86541\n",
      "spam    0.13459\n",
      "Name: Label, dtype: float64\n",
      "\n",
      "Test Dataset: \n",
      "ham     0.868043\n",
      "spam    0.131957\n",
      "Name: Label, dtype: float64\n"
     ]
    }
   ],
   "source": [
    "#percentage of spam and ham in each split dataset:\n",
    "\n",
    "print(f\"Training Dataset: \\n{percentages_ham_spam(training_sms_spam)}\\n\")\n",
    "print(f\"Test Dataset: \\n{percentages_ham_spam(test_sms_spam)}\")\n"
   ]
  },
  {
   "cell_type": "markdown",
   "id": "portuguese-acoustic",
   "metadata": {},
   "source": [
    "Percentages look similar between the two datasets- I wouldn't want the data to be skewed with one of the datasets having a significantly different percentage as that would mean that either the training or testing could be off."
   ]
  },
  {
   "cell_type": "markdown",
   "id": "massive-ensemble",
   "metadata": {},
   "source": [
    "# Data Cleaning\n",
    "Below I will clean the data to remove punctuation, lower case all letters so that words can be easily compared."
   ]
  },
  {
   "cell_type": "code",
   "execution_count": 20,
   "id": "assured-silence",
   "metadata": {},
   "outputs": [
    {
     "name": "stderr",
     "output_type": "stream",
     "text": [
      "<ipython-input-20-2a1f5baa5ee7>:7: FutureWarning: The default value of regex will change from True to False in a future version.\n",
      "  return series.str.replace(\"\\W\", \" \").str.lower()\n"
     ]
    },
    {
     "data": {
      "text/html": [
       "<div>\n",
       "<style scoped>\n",
       "    .dataframe tbody tr th:only-of-type {\n",
       "        vertical-align: middle;\n",
       "    }\n",
       "\n",
       "    .dataframe tbody tr th {\n",
       "        vertical-align: top;\n",
       "    }\n",
       "\n",
       "    .dataframe thead th {\n",
       "        text-align: right;\n",
       "    }\n",
       "</style>\n",
       "<table border=\"1\" class=\"dataframe\">\n",
       "  <thead>\n",
       "    <tr style=\"text-align: right;\">\n",
       "      <th></th>\n",
       "      <th>Label</th>\n",
       "      <th>SMS</th>\n",
       "    </tr>\n",
       "  </thead>\n",
       "  <tbody>\n",
       "    <tr>\n",
       "      <th>0</th>\n",
       "      <td>ham</td>\n",
       "      <td>yep  by the pretty sculpture</td>\n",
       "    </tr>\n",
       "    <tr>\n",
       "      <th>1</th>\n",
       "      <td>ham</td>\n",
       "      <td>yes  princess  are you going to make me moan</td>\n",
       "    </tr>\n",
       "    <tr>\n",
       "      <th>2</th>\n",
       "      <td>ham</td>\n",
       "      <td>welp apparently he retired</td>\n",
       "    </tr>\n",
       "    <tr>\n",
       "      <th>3</th>\n",
       "      <td>ham</td>\n",
       "      <td>havent</td>\n",
       "    </tr>\n",
       "    <tr>\n",
       "      <th>4</th>\n",
       "      <td>ham</td>\n",
       "      <td>i forgot 2 ask ü all smth   there s a card on ...</td>\n",
       "    </tr>\n",
       "  </tbody>\n",
       "</table>\n",
       "</div>"
      ],
      "text/plain": [
       "  Label                                                SMS\n",
       "0   ham                       yep  by the pretty sculpture\n",
       "1   ham      yes  princess  are you going to make me moan \n",
       "2   ham                         welp apparently he retired\n",
       "3   ham                                            havent \n",
       "4   ham  i forgot 2 ask ü all smth   there s a card on ..."
      ]
     },
     "execution_count": 20,
     "metadata": {},
     "output_type": "execute_result"
    }
   ],
   "source": [
    "import re\n",
    "\n",
    "#Not using .replace() because it now warns that it will raise \n",
    "# a ValueError if regex isn't matched on next version of pds\n",
    "\n",
    "def clean_data(series: \"DataSeries\") -> str:\n",
    "    return series.str.replace(\"\\W\", \" \").str.lower()\n",
    "\n",
    "training_sms_spam[\"SMS\"] = clean_data(training_sms_spam[\"SMS\"])\n",
    "test_sms_spam[\"SMS\"]= clean_data(test_sms_spam[\"SMS\"])\n",
    "\n",
    "training_sms_spam.head()\n",
    "\n"
   ]
  },
  {
   "cell_type": "markdown",
   "id": "durable-bridges",
   "metadata": {},
   "source": [
    "# Creating a Vocabulary\n",
    "\n",
    "I will create a list of all of the words that are used in all messages for each dataset.\n"
   ]
  },
  {
   "cell_type": "code",
   "execution_count": 21,
   "id": "dependent-necessity",
   "metadata": {},
   "outputs": [
    {
     "data": {
      "text/plain": [
       "7783"
      ]
     },
     "execution_count": 21,
     "metadata": {},
     "output_type": "execute_result"
    }
   ],
   "source": [
    "# function to create a list of all words\n",
    "training_sms_spam[\"SMS\"]= training_sms_spam[\"SMS\"].str.split()\n",
    "\n",
    "def vocab_list_gen(dataframe: \"DataFrame\") -> t.List[str]:\n",
    "    all_words= []\n",
    "    for sms_text in training_sms_spam[\"SMS\"]:\n",
    "        all_words.extend(sms_text)                    \n",
    "    return list(set(all_words))\n",
    "\n",
    "training_vocab_list= vocab_list_gen(training_sms_spam[\"SMS\"])\n",
    "\n",
    "#checking how many unique words we have\n",
    "len(training_vocab_list)\n",
    "                            "
   ]
  },
  {
   "cell_type": "markdown",
   "id": "approved-database",
   "metadata": {},
   "source": [
    "# Word Counts in Each Row\n",
    "\n",
    "Creating a dictionary of the count of each word in every row.  I will use this to create a larger dataset with row number and times they appear."
   ]
  },
  {
   "cell_type": "code",
   "execution_count": 22,
   "id": "circular-repository",
   "metadata": {},
   "outputs": [
    {
     "name": "stdout",
     "output_type": "stream",
     "text": [
      "(4458, 7783)\n",
      "Index(['fml', 'persian', 'copy', 'vegas', 'mailbox', 'helping', 'yummy',\n",
      "       'planning', 'dabooks', '10ppm',\n",
      "       ...\n",
      "       'tom', 'pics', 'bear', 'piggy', 'misfits', 'grateful', 'area',\n",
      "       'cereals', 'behave', 'noline'],\n",
      "      dtype='object', length=7783)\n"
     ]
    }
   ],
   "source": [
    "#creating a way to easily look up index\n",
    "training_vocab_dict={word: [0]* len(training_sms_spam[\"SMS\"]) for word in training_vocab_list}\n",
    "\n",
    "\n",
    "all_word_count_dict= {}\n",
    "for i, row in enumerate(training_sms_spam[\"SMS\"]):\n",
    "    for word in row:\n",
    "        #for multiple empty strings\n",
    "#         if training_vocab_dict.get(word, False):\n",
    "        training_vocab_dict[word][i]+=1\n",
    "    \n",
    "word_counts= pd.DataFrame(training_vocab_dict)\n",
    "print(word_counts.shape)\n",
    "print(word_counts.columns)"
   ]
  },
  {
   "cell_type": "code",
   "execution_count": 23,
   "id": "freelance-wallet",
   "metadata": {},
   "outputs": [
    {
     "data": {
      "text/html": [
       "<div>\n",
       "<style scoped>\n",
       "    .dataframe tbody tr th:only-of-type {\n",
       "        vertical-align: middle;\n",
       "    }\n",
       "\n",
       "    .dataframe tbody tr th {\n",
       "        vertical-align: top;\n",
       "    }\n",
       "\n",
       "    .dataframe thead th {\n",
       "        text-align: right;\n",
       "    }\n",
       "</style>\n",
       "<table border=\"1\" class=\"dataframe\">\n",
       "  <thead>\n",
       "    <tr style=\"text-align: right;\">\n",
       "      <th></th>\n",
       "      <th>Label</th>\n",
       "      <th>SMS</th>\n",
       "      <th>fml</th>\n",
       "      <th>persian</th>\n",
       "      <th>copy</th>\n",
       "      <th>vegas</th>\n",
       "      <th>mailbox</th>\n",
       "      <th>helping</th>\n",
       "      <th>yummy</th>\n",
       "      <th>planning</th>\n",
       "      <th>...</th>\n",
       "      <th>tom</th>\n",
       "      <th>pics</th>\n",
       "      <th>bear</th>\n",
       "      <th>piggy</th>\n",
       "      <th>misfits</th>\n",
       "      <th>grateful</th>\n",
       "      <th>area</th>\n",
       "      <th>cereals</th>\n",
       "      <th>behave</th>\n",
       "      <th>noline</th>\n",
       "    </tr>\n",
       "  </thead>\n",
       "  <tbody>\n",
       "    <tr>\n",
       "      <th>0</th>\n",
       "      <td>ham</td>\n",
       "      <td>[yep, by, the, pretty, sculpture]</td>\n",
       "      <td>0</td>\n",
       "      <td>0</td>\n",
       "      <td>0</td>\n",
       "      <td>0</td>\n",
       "      <td>0</td>\n",
       "      <td>0</td>\n",
       "      <td>0</td>\n",
       "      <td>0</td>\n",
       "      <td>...</td>\n",
       "      <td>0</td>\n",
       "      <td>0</td>\n",
       "      <td>0</td>\n",
       "      <td>0</td>\n",
       "      <td>0</td>\n",
       "      <td>0</td>\n",
       "      <td>0</td>\n",
       "      <td>0</td>\n",
       "      <td>0</td>\n",
       "      <td>0</td>\n",
       "    </tr>\n",
       "    <tr>\n",
       "      <th>1</th>\n",
       "      <td>ham</td>\n",
       "      <td>[yes, princess, are, you, going, to, make, me,...</td>\n",
       "      <td>0</td>\n",
       "      <td>0</td>\n",
       "      <td>0</td>\n",
       "      <td>0</td>\n",
       "      <td>0</td>\n",
       "      <td>0</td>\n",
       "      <td>0</td>\n",
       "      <td>0</td>\n",
       "      <td>...</td>\n",
       "      <td>0</td>\n",
       "      <td>0</td>\n",
       "      <td>0</td>\n",
       "      <td>0</td>\n",
       "      <td>0</td>\n",
       "      <td>0</td>\n",
       "      <td>0</td>\n",
       "      <td>0</td>\n",
       "      <td>0</td>\n",
       "      <td>0</td>\n",
       "    </tr>\n",
       "    <tr>\n",
       "      <th>2</th>\n",
       "      <td>ham</td>\n",
       "      <td>[welp, apparently, he, retired]</td>\n",
       "      <td>0</td>\n",
       "      <td>0</td>\n",
       "      <td>0</td>\n",
       "      <td>0</td>\n",
       "      <td>0</td>\n",
       "      <td>0</td>\n",
       "      <td>0</td>\n",
       "      <td>0</td>\n",
       "      <td>...</td>\n",
       "      <td>0</td>\n",
       "      <td>0</td>\n",
       "      <td>0</td>\n",
       "      <td>0</td>\n",
       "      <td>0</td>\n",
       "      <td>0</td>\n",
       "      <td>0</td>\n",
       "      <td>0</td>\n",
       "      <td>0</td>\n",
       "      <td>0</td>\n",
       "    </tr>\n",
       "    <tr>\n",
       "      <th>3</th>\n",
       "      <td>ham</td>\n",
       "      <td>[havent]</td>\n",
       "      <td>0</td>\n",
       "      <td>0</td>\n",
       "      <td>0</td>\n",
       "      <td>0</td>\n",
       "      <td>0</td>\n",
       "      <td>0</td>\n",
       "      <td>0</td>\n",
       "      <td>0</td>\n",
       "      <td>...</td>\n",
       "      <td>0</td>\n",
       "      <td>0</td>\n",
       "      <td>0</td>\n",
       "      <td>0</td>\n",
       "      <td>0</td>\n",
       "      <td>0</td>\n",
       "      <td>0</td>\n",
       "      <td>0</td>\n",
       "      <td>0</td>\n",
       "      <td>0</td>\n",
       "    </tr>\n",
       "    <tr>\n",
       "      <th>4</th>\n",
       "      <td>ham</td>\n",
       "      <td>[i, forgot, 2, ask, ü, all, smth, there, s, a,...</td>\n",
       "      <td>0</td>\n",
       "      <td>0</td>\n",
       "      <td>0</td>\n",
       "      <td>0</td>\n",
       "      <td>0</td>\n",
       "      <td>0</td>\n",
       "      <td>0</td>\n",
       "      <td>0</td>\n",
       "      <td>...</td>\n",
       "      <td>0</td>\n",
       "      <td>0</td>\n",
       "      <td>0</td>\n",
       "      <td>0</td>\n",
       "      <td>0</td>\n",
       "      <td>0</td>\n",
       "      <td>0</td>\n",
       "      <td>0</td>\n",
       "      <td>0</td>\n",
       "      <td>0</td>\n",
       "    </tr>\n",
       "  </tbody>\n",
       "</table>\n",
       "<p>5 rows × 7785 columns</p>\n",
       "</div>"
      ],
      "text/plain": [
       "  Label                                                SMS  fml  persian  \\\n",
       "0   ham                  [yep, by, the, pretty, sculpture]    0        0   \n",
       "1   ham  [yes, princess, are, you, going, to, make, me,...    0        0   \n",
       "2   ham                    [welp, apparently, he, retired]    0        0   \n",
       "3   ham                                           [havent]    0        0   \n",
       "4   ham  [i, forgot, 2, ask, ü, all, smth, there, s, a,...    0        0   \n",
       "\n",
       "   copy  vegas  mailbox  helping  yummy  planning  ...  tom  pics  bear  \\\n",
       "0     0      0        0        0      0         0  ...    0     0     0   \n",
       "1     0      0        0        0      0         0  ...    0     0     0   \n",
       "2     0      0        0        0      0         0  ...    0     0     0   \n",
       "3     0      0        0        0      0         0  ...    0     0     0   \n",
       "4     0      0        0        0      0         0  ...    0     0     0   \n",
       "\n",
       "   piggy  misfits  grateful  area  cereals  behave  noline  \n",
       "0      0        0         0     0        0       0       0  \n",
       "1      0        0         0     0        0       0       0  \n",
       "2      0        0         0     0        0       0       0  \n",
       "3      0        0         0     0        0       0       0  \n",
       "4      0        0         0     0        0       0       0  \n",
       "\n",
       "[5 rows x 7785 columns]"
      ]
     },
     "execution_count": 23,
     "metadata": {},
     "output_type": "execute_result"
    }
   ],
   "source": [
    "training_sms_spam_clean = pd.concat([training_sms_spam, word_counts], axis=1)\n",
    "training_sms_spam_clean.head()"
   ]
  },
  {
   "attachments": {
    "image.png": {
     "image/png": "[encoded data removed]"
    }
   },
   "cell_type": "markdown",
   "id": "rough-analyst",
   "metadata": {},
   "source": [
    "# Calculating Naive Bayesian Propabilities\n",
    "\n",
    "Using the following equations, with Laplace smoothing and alph.\n",
    "\n",
    "![image.png](attachment:image.png)\n"
   ]
  },
  {
   "cell_type": "markdown",
   "id": "improved-characteristic",
   "metadata": {},
   "source": [
    "Calculating P(Spam) and P(Ham)"
   ]
  },
  {
   "cell_type": "code",
   "execution_count": 24,
   "id": "acceptable-invasion",
   "metadata": {
    "scrolled": true
   },
   "outputs": [
    {
     "data": {
      "text/html": [
       "<div>\n",
       "<style scoped>\n",
       "    .dataframe tbody tr th:only-of-type {\n",
       "        vertical-align: middle;\n",
       "    }\n",
       "\n",
       "    .dataframe tbody tr th {\n",
       "        vertical-align: top;\n",
       "    }\n",
       "\n",
       "    .dataframe thead th {\n",
       "        text-align: right;\n",
       "    }\n",
       "</style>\n",
       "<table border=\"1\" class=\"dataframe\">\n",
       "  <thead>\n",
       "    <tr style=\"text-align: right;\">\n",
       "      <th></th>\n",
       "      <th>Label</th>\n",
       "      <th>SMS</th>\n",
       "      <th>fml</th>\n",
       "      <th>persian</th>\n",
       "      <th>copy</th>\n",
       "      <th>vegas</th>\n",
       "      <th>mailbox</th>\n",
       "      <th>helping</th>\n",
       "      <th>yummy</th>\n",
       "      <th>planning</th>\n",
       "      <th>...</th>\n",
       "      <th>pics</th>\n",
       "      <th>bear</th>\n",
       "      <th>piggy</th>\n",
       "      <th>misfits</th>\n",
       "      <th>grateful</th>\n",
       "      <th>area</th>\n",
       "      <th>cereals</th>\n",
       "      <th>behave</th>\n",
       "      <th>noline</th>\n",
       "      <th>Message_len</th>\n",
       "    </tr>\n",
       "  </thead>\n",
       "  <tbody>\n",
       "    <tr>\n",
       "      <th>16</th>\n",
       "      <td>spam</td>\n",
       "      <td>[freemsg, why, haven, t, you, replied, to, my,...</td>\n",
       "      <td>0</td>\n",
       "      <td>0</td>\n",
       "      <td>0</td>\n",
       "      <td>0</td>\n",
       "      <td>0</td>\n",
       "      <td>0</td>\n",
       "      <td>0</td>\n",
       "      <td>0</td>\n",
       "      <td>...</td>\n",
       "      <td>0</td>\n",
       "      <td>0</td>\n",
       "      <td>0</td>\n",
       "      <td>0</td>\n",
       "      <td>0</td>\n",
       "      <td>0</td>\n",
       "      <td>0</td>\n",
       "      <td>0</td>\n",
       "      <td>0</td>\n",
       "      <td>31</td>\n",
       "    </tr>\n",
       "    <tr>\n",
       "      <th>18</th>\n",
       "      <td>spam</td>\n",
       "      <td>[congrats, 2, mobile, 3g, videophones, r, your...</td>\n",
       "      <td>0</td>\n",
       "      <td>0</td>\n",
       "      <td>0</td>\n",
       "      <td>0</td>\n",
       "      <td>0</td>\n",
       "      <td>0</td>\n",
       "      <td>0</td>\n",
       "      <td>0</td>\n",
       "      <td>...</td>\n",
       "      <td>0</td>\n",
       "      <td>0</td>\n",
       "      <td>0</td>\n",
       "      <td>0</td>\n",
       "      <td>0</td>\n",
       "      <td>0</td>\n",
       "      <td>0</td>\n",
       "      <td>0</td>\n",
       "      <td>1</td>\n",
       "      <td>26</td>\n",
       "    </tr>\n",
       "    <tr>\n",
       "      <th>56</th>\n",
       "      <td>spam</td>\n",
       "      <td>[free, message, activate, your, 500, free, tex...</td>\n",
       "      <td>0</td>\n",
       "      <td>0</td>\n",
       "      <td>0</td>\n",
       "      <td>0</td>\n",
       "      <td>0</td>\n",
       "      <td>0</td>\n",
       "      <td>0</td>\n",
       "      <td>0</td>\n",
       "      <td>...</td>\n",
       "      <td>0</td>\n",
       "      <td>0</td>\n",
       "      <td>0</td>\n",
       "      <td>0</td>\n",
       "      <td>0</td>\n",
       "      <td>0</td>\n",
       "      <td>0</td>\n",
       "      <td>0</td>\n",
       "      <td>0</td>\n",
       "      <td>24</td>\n",
       "    </tr>\n",
       "    <tr>\n",
       "      <th>60</th>\n",
       "      <td>spam</td>\n",
       "      <td>[call, from, 08702490080, tells, u, 2, call, 0...</td>\n",
       "      <td>0</td>\n",
       "      <td>0</td>\n",
       "      <td>0</td>\n",
       "      <td>0</td>\n",
       "      <td>0</td>\n",
       "      <td>0</td>\n",
       "      <td>0</td>\n",
       "      <td>0</td>\n",
       "      <td>...</td>\n",
       "      <td>0</td>\n",
       "      <td>0</td>\n",
       "      <td>0</td>\n",
       "      <td>0</td>\n",
       "      <td>0</td>\n",
       "      <td>0</td>\n",
       "      <td>0</td>\n",
       "      <td>0</td>\n",
       "      <td>0</td>\n",
       "      <td>24</td>\n",
       "    </tr>\n",
       "    <tr>\n",
       "      <th>61</th>\n",
       "      <td>spam</td>\n",
       "      <td>[someone, has, conacted, our, dating, service,...</td>\n",
       "      <td>0</td>\n",
       "      <td>0</td>\n",
       "      <td>0</td>\n",
       "      <td>0</td>\n",
       "      <td>0</td>\n",
       "      <td>0</td>\n",
       "      <td>0</td>\n",
       "      <td>0</td>\n",
       "      <td>...</td>\n",
       "      <td>0</td>\n",
       "      <td>0</td>\n",
       "      <td>0</td>\n",
       "      <td>0</td>\n",
       "      <td>0</td>\n",
       "      <td>0</td>\n",
       "      <td>0</td>\n",
       "      <td>0</td>\n",
       "      <td>0</td>\n",
       "      <td>25</td>\n",
       "    </tr>\n",
       "  </tbody>\n",
       "</table>\n",
       "<p>5 rows × 7786 columns</p>\n",
       "</div>"
      ],
      "text/plain": [
       "   Label                                                SMS  fml  persian  \\\n",
       "16  spam  [freemsg, why, haven, t, you, replied, to, my,...    0        0   \n",
       "18  spam  [congrats, 2, mobile, 3g, videophones, r, your...    0        0   \n",
       "56  spam  [free, message, activate, your, 500, free, tex...    0        0   \n",
       "60  spam  [call, from, 08702490080, tells, u, 2, call, 0...    0        0   \n",
       "61  spam  [someone, has, conacted, our, dating, service,...    0        0   \n",
       "\n",
       "    copy  vegas  mailbox  helping  yummy  planning  ...  pics  bear  piggy  \\\n",
       "16     0      0        0        0      0         0  ...     0     0      0   \n",
       "18     0      0        0        0      0         0  ...     0     0      0   \n",
       "56     0      0        0        0      0         0  ...     0     0      0   \n",
       "60     0      0        0        0      0         0  ...     0     0      0   \n",
       "61     0      0        0        0      0         0  ...     0     0      0   \n",
       "\n",
       "    misfits  grateful  area  cereals  behave  noline  Message_len  \n",
       "16        0         0     0        0       0       0           31  \n",
       "18        0         0     0        0       0       1           26  \n",
       "56        0         0     0        0       0       0           24  \n",
       "60        0         0     0        0       0       0           24  \n",
       "61        0         0     0        0       0       0           25  \n",
       "\n",
       "[5 rows x 7786 columns]"
      ]
     },
     "execution_count": 24,
     "metadata": {},
     "output_type": "execute_result"
    }
   ],
   "source": [
    "total_num_messages= word_counts.shape[1]\n",
    "\n",
    "#adding length of each message for later calculations\n",
    "training_sms_spam_clean[\"Message_len\"]= training_sms_spam_clean[\"SMS\"].apply(len)\n",
    "\n",
    "spam_set= training_sms_spam_clean[training_sms_spam_clean[\"Label\"] == \"spam\"]\n",
    "ham_set= training_sms_spam_clean[training_sms_spam_clean[\"Label\"] == \"ham\"]\n",
    "\n",
    "count_spam= len(spam_set)\n",
    "count_ham= len(ham_set)\n",
    "\n",
    "p_spam= count_spam/total_num_messages\n",
    "p_ham= count_ham/total_num_messages\n",
    "\n",
    "spam_set.head()"
   ]
  },
  {
   "cell_type": "markdown",
   "id": "overhead-fraction",
   "metadata": {},
   "source": [
    "Calculating N of spam,ham, and total vocabulary:"
   ]
  },
  {
   "cell_type": "code",
   "execution_count": 25,
   "id": "silent-algeria",
   "metadata": {},
   "outputs": [],
   "source": [
    "# total num words ham or spam:\n",
    "total_spam_words= spam_set[\"Message_len\"].sum()\n",
    "total_ham_words= ham_set[\"Message_len\"].sum()\n",
    "total_num_words= total_spam_words+total_ham_words"
   ]
  },
  {
   "cell_type": "markdown",
   "id": "cross-camera",
   "metadata": {},
   "source": [
    "# Calculating Probabilities\n",
    "\n",
    "I am creating a function that returns a dictionary for the ham and spam sets and contains the smoothed probability that each word is in either a ham or spam message.  Setting the default alpha value for Laplace smoothing to 1."
   ]
  },
  {
   "cell_type": "code",
   "execution_count": 26,
   "id": "twenty-justice",
   "metadata": {},
   "outputs": [],
   "source": [
    "def calc_props(dataframe: \"DataFrame\",\n",
    "               n_value:int,\n",
    "               alpha=1, \n",
    "               n_vocabulary= total_num_words) -> t.Dict[str, float]:\n",
    "    p_dict={}\n",
    "    for colname, col in dataframe.iteritems():\n",
    "        if colname not in {\"Label\", \"SMS\"}:\n",
    "            p_dict[colname]=(col.sum()+ alpha)/(n_value+(alpha*n_vocabulary))\n",
    "            \n",
    "    return p_dict\n",
    "        \n",
    "spam_prob= calc_props(dataframe= spam_set, n_value= total_spam_words)\n",
    "ham_prob= calc_props(dataframe= ham_set, n_value= total_ham_words)\n",
    "    "
   ]
  },
  {
   "cell_type": "markdown",
   "id": "solved-count",
   "metadata": {},
   "source": [
    "# The actual spam filter (finally!)\n"
   ]
  },
  {
   "cell_type": "code",
   "execution_count": 39,
   "id": "first-reply",
   "metadata": {},
   "outputs": [
    {
     "name": "stdout",
     "output_type": "stream",
     "text": [
      "spam\n",
      "ham\n"
     ]
    }
   ],
   "source": [
    "import re\n",
    "import functools\n",
    "\n",
    "def classify(message: str, p_spam_dict: t.Dict[str, float]= spam_prob, p_ham_dict: t.Dict[str, float]= ham_prob) -> None:\n",
    "    \"\"\"\n",
    "    Function takes in a str, classifies it as ham or spam, prints result.\n",
    "    \"\"\"\n",
    "\n",
    "    message = re.sub('\\W', ' ', message)\n",
    "    message = message.lower()\n",
    "    \n",
    "    for word in message.split():\n",
    "        if not p_spam_dict.get(word, False):\n",
    "            p_spam_dict[word]=1\n",
    "            \n",
    "        if not p_ham_dict.get(word, False):\n",
    "            p_ham_dict[word]=1\n",
    "        \n",
    "        \n",
    "    p_list_spam = [p_spam_dict[word] for word in message.split()]\n",
    "    p_list_ham = [p_ham_dict[word] for word in message.split()]\n",
    "    \n",
    "    p_spam_given_message= functools.reduce(lambda x, y: x*y, p_list_spam)\n",
    "    p_ham_given_message= functools.reduce(lambda x, y: x*y, p_list_ham)\n",
    "    \n",
    "\n",
    "    if p_ham_given_message > p_spam_given_message:\n",
    "        return \"ham\"\n",
    "    elif p_ham_given_message < p_spam_given_message:\n",
    "        return \"spam\"\n",
    "    else:\n",
    "        return \"Equal proabilities, have a human classify this!\"\n",
    "        \n",
    "    \n",
    "\n",
    "#A quick test to make sure it's reliable\n",
    "print(classify(\"WINNER!! This is the secret code to unlock the money: C3421.\"))\n",
    "print(classify(\"Sounds good, Tom, then see u there\"))"
   ]
  },
  {
   "cell_type": "markdown",
   "id": "boolean-context",
   "metadata": {},
   "source": [
    "# Testing the accuracy of the Spam Filter\n",
    "I will use the test dataset to test the accuracy of the spam filter, the spam filter was expected to be more than 80% accurate."
   ]
  },
  {
   "cell_type": "code",
   "execution_count": 42,
   "id": "devoted-multimedia",
   "metadata": {},
   "outputs": [
    {
     "name": "stdout",
     "output_type": "stream",
     "text": [
      "Total correct: 1079\n",
      "Accuracy is : 0.9685816876122083\n"
     ]
    }
   ],
   "source": [
    "correct=0\n",
    "total= test_sms_spam.shape[0]\n",
    "\n",
    "test_sms_spam[\"Predicted\"]= test_sms_spam[\"SMS\"].apply(classify)\n",
    "\n",
    "for row in test_sms_spam.iterrows():\n",
    "    row=row[1]\n",
    "    if row[\"Predicted\"] == row[\"Label\"]:\n",
    "        correct += 1\n",
    "        \n",
    "print(f\"Total correct: {correct}\")\n",
    "print(f\"Accuracy is : {correct/total}\")\n",
    "    "
   ]
  },
  {
   "cell_type": "markdown",
   "id": "specialized-softball",
   "metadata": {},
   "source": [
    "There was about 97% accuracy for the spam filter- much better than the predicted 80% accuracy."
   ]
  },
  {
   "cell_type": "markdown",
   "id": "copyrighted-billy",
   "metadata": {},
   "source": [
    "# Next Steps\n",
    "For next steps of the project, I would like to:\n",
    "* Analyze how punctuation could allow more accurate classification of spam messages.\n",
    "* Figure out if I could see anything in common between the incorrectly classified messages, and analyze why.\n",
    "* Add a function that combines all of the above functions and allows generation of a spam filter with any classified group of words to make this project easily repetable.\n"
   ]
  },
  {
   "cell_type": "code",
   "execution_count": null,
   "id": "suburban-dubai",
   "metadata": {},
   "outputs": [],
   "source": []
  }
 ],
 "metadata": {
  "kernelspec": {
   "display_name": "Python 3",
   "language": "python",
   "name": "python3"
  },
  "language_info": {
   "codemirror_mode": {
    "name": "ipython",
    "version": 3
   },
   "file_extension": ".py",
   "mimetype": "text/x-python",
   "name": "python",
   "nbconvert_exporter": "python",
   "pygments_lexer": "ipython3",
   "version": "3.8.2"
  }
 },
 "nbformat": 4,
 "nbformat_minor": 5
}
